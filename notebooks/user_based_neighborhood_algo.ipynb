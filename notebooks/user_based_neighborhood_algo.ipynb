{
 "cells": [
  {
   "cell_type": "code",
   "execution_count": 1,
   "id": "ae45cab2",
   "metadata": {},
   "outputs": [],
   "source": [
    "import numpy as np"
   ]
  },
  {
   "cell_type": "code",
   "execution_count": 2,
   "id": "6cfbeafd",
   "metadata": {},
   "outputs": [],
   "source": [
    "ratings_mat = np.array(\n",
    "    [\n",
    "        [7, 6, 7, 4, 5, 4],\n",
    "        [6, 7, np.nan, 4, 3, 4],\n",
    "        [np.nan, 3, 3, 1, 1, np.nan],\n",
    "        [1, 2, 2, 3, 3, 4],\n",
    "        [1, np.nan, 1, 2, 3, 3],\n",
    "    ]\n",
    ")"
   ]
  },
  {
   "cell_type": "code",
   "execution_count": 13,
   "id": "21b60af7",
   "metadata": {},
   "outputs": [],
   "source": [
    "def pearson_coeff(r_u: np.ndarray, r_v: np.ndarray, mu_u: float, mu_v: float) -> float:\n",
    "    \"\"\"\n",
    "    Calculates the Pearson correlation coefficient between two vectors\n",
    "\n",
    "    Parameters:\n",
    "    ----------\n",
    "    r_u : np.ndarray\n",
    "        Ratings of user u\n",
    "    r_v : np.ndarray\n",
    "        Ratings of user v\n",
    "\n",
    "    mu_u: float\n",
    "        mean rating of user u\n",
    "\n",
    "    mu_v: float\n",
    "        mean rating of user v\n",
    "\n",
    "    Returns:\n",
    "    --------\n",
    "    Pearson correlation coefficient between user 'u' and 'v'\n",
    "    \"\"\"\n",
    "\n",
    "    u_rated_items = np.where(~np.isnan(r_u))[0]\n",
    "    v_rated_items = np.where(~np.isnan(r_v))[0]\n",
    "\n",
    "    common_rated_items = np.intersect1d(u_rated_items, v_rated_items).tolist()\n",
    "\n",
    "    r_u = r_u[common_rated_items]\n",
    "    r_v = r_v[common_rated_items]\n",
    "\n",
    "    a = r_u - mu_u\n",
    "    b = r_v - mu_v\n",
    "\n",
    "    num = np.sum(a * b)\n",
    "    denom = np.sqrt(np.sum(a**2)) * np.sqrt(np.sum(b**2))\n",
    "\n",
    "    return round(num / denom, 3)"
   ]
  },
  {
   "cell_type": "code",
   "execution_count": 12,
   "id": "fb6740f6",
   "metadata": {},
   "outputs": [],
   "source": [
    "def cosine_sim(r_u: np.ndarray, r_v: np.ndarray) -> float:\n",
    "    \"\"\"\n",
    "    Calculates the cosine similarity between two vectors\n",
    "\n",
    "    Parameters:\n",
    "    ----------\n",
    "    r_u : np.ndarray\n",
    "        Ratings of user u\n",
    "\n",
    "    r_v : np.ndarray\n",
    "        Ratings of user v\n",
    "\n",
    "    Returns:\n",
    "    --------\n",
    "    Cosine similarity between user 'u' and 'v'\n",
    "    \"\"\"\n",
    "\n",
    "    u_rated_items = np.where(~np.isnan(r_u))[0]\n",
    "    v_rated_items = np.where(~np.isnan(r_v))[0]\n",
    "\n",
    "    common_rated_items = np.intersect1d(u_rated_items, v_rated_items).tolist()\n",
    "\n",
    "    r_u = r_u[common_rated_items]\n",
    "    r_v = r_v[common_rated_items]\n",
    "\n",
    "    num = np.sum(r_u * r_v)\n",
    "    denom = np.sqrt(np.sum(r_u**2)) * np.sqrt(np.sum(r_v**2))\n",
    "\n",
    "    return round(num / denom, 3)"
   ]
  },
  {
   "cell_type": "markdown",
   "id": "35d8cce7",
   "metadata": {},
   "source": [
    "# Calculate Mean Ratings"
   ]
  },
  {
   "cell_type": "code",
   "execution_count": 14,
   "id": "3db11412",
   "metadata": {},
   "outputs": [
    {
     "data": {
      "text/plain": [
       "array([5.5, 4.8, 2. , 2.5, 2. ])"
      ]
     },
     "execution_count": 14,
     "metadata": {},
     "output_type": "execute_result"
    }
   ],
   "source": [
    "mean_ratings = np.nanmean(ratings_mat, axis=1)\n",
    "mean_ratings"
   ]
  },
  {
   "cell_type": "markdown",
   "id": "83e0a324",
   "metadata": {},
   "source": [
    "# Calculate User Similarity to a target user"
   ]
  },
  {
   "cell_type": "code",
   "execution_count": 15,
   "id": "34ee0406",
   "metadata": {},
   "outputs": [
    {
     "name": "stdout",
     "output_type": "stream",
     "text": [
      "Pearson Correlation Similarities to user 3: [np.float64(0.894), np.float64(0.938), np.float64(-1.0), np.float64(-0.816)]\n",
      "Cosine Similarities to user 3: [np.float64(0.956), np.float64(0.981), np.float64(0.789), np.float64(0.645)]\n"
     ]
    }
   ],
   "source": [
    "sim_pearson = list()\n",
    "sim_cosine = list()\n",
    "\n",
    "ratings_user_3 = ratings_mat[2]  # Target user\n",
    "\n",
    "for i in range(ratings_mat.shape[0]):\n",
    "    if i == 2:\n",
    "        continue\n",
    "\n",
    "    sim_pearson.append(\n",
    "        pearson_coeff(ratings_mat[i], ratings_user_3, mean_ratings[i], mean_ratings[2])\n",
    "    )\n",
    "    sim_cosine.append(cosine_sim(ratings_mat[i], ratings_user_3))\n",
    "\n",
    "\n",
    "print(f\"Pearson Correlation Similarities to user 3: {sim_pearson}\")\n",
    "print(f\"Cosine Similarities to user 3: {sim_cosine}\")"
   ]
  },
  {
   "cell_type": "markdown",
   "id": "4dfc2766",
   "metadata": {},
   "source": [
    "# Calculate Mean-Centered Ratings"
   ]
  },
  {
   "cell_type": "code",
   "execution_count": 23,
   "id": "953955ce",
   "metadata": {},
   "outputs": [
    {
     "data": {
      "text/plain": [
       "array([[ 1.5,  0.5,  1.5, -1.5, -0.5, -1.5],\n",
       "       [ 1.2,  2.2,  nan, -0.8, -1.8, -0.8],\n",
       "       [ nan,  1. ,  1. , -1. , -1. ,  nan],\n",
       "       [-1.5, -0.5, -0.5,  0.5,  0.5,  1.5],\n",
       "       [-1. ,  nan, -1. ,  0. ,  1. ,  1. ]])"
      ]
     },
     "execution_count": 23,
     "metadata": {},
     "output_type": "execute_result"
    }
   ],
   "source": [
    "mean_centered_ratings_mat = ratings_mat - mean_ratings.reshape(-1, 1)\n",
    "mean_centered_ratings_mat"
   ]
  },
  {
   "cell_type": "markdown",
   "id": "d447fa2b",
   "metadata": {},
   "source": [
    "# Calculate Predictions for item 1 and 6 of user 3"
   ]
  },
  {
   "cell_type": "code",
   "execution_count": 34,
   "id": "3d0907ea",
   "metadata": {},
   "outputs": [
    {
     "name": "stdout",
     "output_type": "stream",
     "text": [
      "Predicted Rating for item - 1: 3.35\n",
      "Predicted Rating for item - 6: 0.86\n"
     ]
    }
   ],
   "source": [
    "# Since the most similar users to user 3 are user 1 and user 2\n",
    "# as per the Pearson Correlation Coefficient Similarity.\n",
    "\n",
    "r_v = mean_centered_ratings_mat[[0, 1]]\n",
    "mu_v = mean_ratings[[0, 1]]\n",
    "sim = np.asarray(sim_pearson)[[0, 1]]\n",
    "mu_u = mean_ratings[2]\n",
    "\n",
    "\n",
    "r_3_0 = mu_u + np.sum(sim * r_v[[0, 1], 0]) / np.sum(np.abs(sim))\n",
    "r_3_6 = mu_u + np.sum(sim * r_v[[0, 1], 5]) / np.sum(np.abs(sim))\n",
    "\n",
    "print(f\"Predicted Rating for item - 1: {r_3_0:.2f}\")\n",
    "print(f\"Predicted Rating for item - 6: {r_3_6:.2f}\")"
   ]
  },
  {
   "cell_type": "code",
   "execution_count": null,
   "id": "0b2611e4",
   "metadata": {},
   "outputs": [],
   "source": []
  }
 ],
 "metadata": {
  "kernelspec": {
   "display_name": "recsys",
   "language": "python",
   "name": "python3"
  },
  "language_info": {
   "codemirror_mode": {
    "name": "ipython",
    "version": 3
   },
   "file_extension": ".py",
   "mimetype": "text/x-python",
   "name": "python",
   "nbconvert_exporter": "python",
   "pygments_lexer": "ipython3",
   "version": "3.12.8"
  }
 },
 "nbformat": 4,
 "nbformat_minor": 5
}
